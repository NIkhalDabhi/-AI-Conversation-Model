{
 "cells": [
  {
   "cell_type": "code",
   "execution_count": 4,
   "id": "20b035e6",
   "metadata": {},
   "outputs": [
    {
     "name": "stdout",
     "output_type": "stream",
     "text": [
      "AI : What is your name ?\n",
      "User: xyz\n",
      "\n",
      "AI : What is your email address?\n",
      "User: xyz@gmail.com\n",
      "\n",
      "AI : What is your gender ?\n",
      "User: Male\n",
      "M\n",
      "AI : Are you playing football?\n",
      "User: yes\n",
      "M\n"
     ]
    }
   ],
   "source": [
    "import csv\n",
    "\n",
    "class ConversationModel:\n",
    "    def __init__(self, csv_file):\n",
    "        self.questions = []\n",
    "        with open(csv_file, 'r') as file:\n",
    "            reader = csv.DictReader(file)\n",
    "            for row in reader:\n",
    "                self.questions.append(row)\n",
    "\n",
    "    def ask_question(self, question):\n",
    "        print(question)\n",
    "\n",
    "    def get_next_question(self, answer,ua,g_value):\n",
    "        state = 0\n",
    "        \n",
    "        for question in self.questions:\n",
    "            \n",
    "            if question['Question'] == answer:\n",
    "                state = 1\n",
    "                if answer == \"AI : What is your gender ?\":\n",
    "                    if ua.lower() == 'male':\n",
    "                        g_value = 'M'\n",
    "                    else:\n",
    "                        g_value = 'F'\n",
    "                    \n",
    "                continue\n",
    "            else:\n",
    "               \n",
    "                if state == 1:\n",
    "                    print(g_value)\n",
    "                    if g_value in question['gender']:\n",
    "                \n",
    "                        return question['Question'],g_value\n",
    "        \n",
    "        return None,None\n",
    "\n",
    "def main():\n",
    "    model = ConversationModel('C:\\\\Users\\\\nikha\\\\Downloads\\\\questions.csv')\n",
    "    current_question = 'AI : What is your name ?'\n",
    "    gender = ''\n",
    "    while current_question:\n",
    "        model.ask_question(current_question)\n",
    "        user_answer = input(\"User: \")\n",
    "        current_question,gender = model.get_next_question(current_question,user_answer,gender)\n",
    "      \n",
    "\n",
    "if __name__ == \"__main__\":\n",
    "    main()\n"
   ]
  },
  {
   "cell_type": "code",
   "execution_count": null,
   "id": "4fda2f1d",
   "metadata": {},
   "outputs": [],
   "source": []
  }
 ],
 "metadata": {
  "kernelspec": {
   "display_name": "Python 3 (ipykernel)",
   "language": "python",
   "name": "python3"
  },
  "language_info": {
   "codemirror_mode": {
    "name": "ipython",
    "version": 3
   },
   "file_extension": ".py",
   "mimetype": "text/x-python",
   "name": "python",
   "nbconvert_exporter": "python",
   "pygments_lexer": "ipython3",
   "version": "3.9.7"
  }
 },
 "nbformat": 4,
 "nbformat_minor": 5
}
